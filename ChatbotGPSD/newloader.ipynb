{
 "cells": [
  {
   "cell_type": "code",
   "execution_count": 2,
   "metadata": {},
   "outputs": [
    {
     "name": "stderr",
     "output_type": "stream",
     "text": [
      "USER_AGENT environment variable not set, consider setting it to identify your requests.\n"
     ]
    }
   ],
   "source": [
    "from langchain_community.vectorstores import FAISS\n",
    "from langchain_chroma import Chroma\n",
    "from langchain_community.document_loaders import WebBaseLoader\n",
    "from langchain_core.prompts import ChatPromptTemplate\n",
    "from langchain_text_splitters import RecursiveCharacterTextSplitter\n",
    "from langchain.chains import create_retrieval_chain\n",
    "from langchain.chains.combine_documents import create_stuff_documents_chain\n",
    "import os\n",
    "from langchain_community.document_loaders.mongodb import MongodbLoader\n",
    "from langchain_groq import ChatGroq\n",
    "from dotenv import load_dotenv"
   ]
  },
  {
   "cell_type": "code",
   "execution_count": 3,
   "metadata": {},
   "outputs": [
    {
     "data": {
      "text/plain": [
       "ChatGroq(client=<groq.resources.chat.completions.Completions object at 0x78fe54b479b0>, async_client=<groq.resources.chat.completions.AsyncCompletions object at 0x78fe4805bc20>, model_name='llama-3.1-70b-versatile', model_kwargs={}, groq_api_key=SecretStr('**********'))"
      ]
     },
     "execution_count": 3,
     "metadata": {},
     "output_type": "execute_result"
    }
   ],
   "source": [
    "load_dotenv()\n",
    "\n",
    "groq_api_key=os.getenv(\"GROQ_API_KEY\")\n",
    "\n",
    "llm=ChatGroq(groq_api_key=groq_api_key,model_name=\"llama-3.1-70b-versatile\")\n",
    "\n",
    "llm"
   ]
  },
  {
   "cell_type": "code",
   "execution_count": 4,
   "metadata": {},
   "outputs": [],
   "source": [
    "# add this import for running in jupyter notebook\n",
    "import nest_asyncio\n",
    "\n",
    "nest_asyncio.apply()"
   ]
  },
  {
   "cell_type": "code",
   "execution_count": null,
   "metadata": {},
   "outputs": [],
   "source": [
    "db_name = \"loan_database\"\n",
    "\n",
    "# Define the collections and their respective field names\n",
    "collections_fields = {\n",
    "    \"customers\": [\"customer_id\", \"first_name\", \"last_name\", \"date_of_birth\", \"address\", \"phone\", \"email\", \"national_id\"],\n",
    "    \"loans\": [\"loan_id\", \"customer_id\", \"loan_type\", \"principal_amount\", \"interest_rate\", \"loan_term_months\", \"start_date\", \"end_date\", \"loan_status\"],\n",
    "    \"repayments\": [\"repayment_id\", \"loan_id\", \"repayment_date\", \"amount_paid\", \"principal_paid\", \"interest_paid\", \"remaining_balance\"],\n",
    "    \"collateral\": [\"collateral_id\", \"loan_id\", \"collateral_type\", \"description\", \"appraised_value\", \"date_of_valuation\"],\n",
    "    \"employees\": [\"employee_id\", \"first_name\", \"last_name\", \"position\", \"branch_id\", \"email\", \"phone\"],\n",
    "    \"branches\": [\"branch_id\", \"branch_name\", \"address\", \"phone\"],\n",
    "    \"loan_applications\": [\"application_id\", \"customer_id\", \"loan_type\", \"requested_amount\", \"application_date\", \"application_status\", \"assigned_employee\"],\n",
    "    \"payments_schedule\": [\"schedule_id\", \"loan_id\", \"due_date\", \"payment_due\", \"status\"],\n",
    "    # Add more collections and their fields as needed\n",
    "}\n",
    "\n",
    "# Initialize an empty list to hold all documents\n",
    "all_docs = []\n",
    "\n",
    "# Loop through each collection and load documents\n",
    "for collection_name, field_names in collections_fields.items():\n",
    "    loader = MongodbLoader(\n",
    "        connection_string=\"mongodb+srv://\",\n",
    "        db_name=db_name,\n",
    "        collection_name=collection_name,\n",
    "        field_names=field_names,\n",
    "    )\n",
    "    docs = loader.load()\n",
    "    all_docs.extend(docs)\n",
    "\n",
    "# Now, all_docs contains documents from all specified collections\n"
   ]
  },
  {
   "cell_type": "code",
   "execution_count": 6,
   "metadata": {},
   "outputs": [
    {
     "data": {
      "text/plain": [
       "160"
      ]
     },
     "execution_count": 6,
     "metadata": {},
     "output_type": "execute_result"
    }
   ],
   "source": [
    "len(all_docs)"
   ]
  },
  {
   "cell_type": "code",
   "execution_count": 7,
   "metadata": {},
   "outputs": [
    {
     "data": {
      "text/plain": [
       "[Document(metadata={'database': 'loan_database', 'collection': 'customers'}, page_content='CUST001 John Doe 1985-04-15 123 Main St, Cityville 555-1234 johndoe@example.com 123456789'),\n",
       " Document(metadata={'database': 'loan_database', 'collection': 'customers'}, page_content='CUST002 Jane Smith 1990-08-22 456 Oak St, Townsville 555-5678 janesmith@example.com 987654321'),\n",
       " Document(metadata={'database': 'loan_database', 'collection': 'customers'}, page_content='CUST003 Robert Brown 1982-11-30 789 Pine St, Cityville 555-7890 robert.brown@example.com 234567890'),\n",
       " Document(metadata={'database': 'loan_database', 'collection': 'customers'}, page_content='CUST004 Emily Davis 1975-06-14 321 Cedar St, Townsville 555-3456 emily.davis@example.com 345678901'),\n",
       " Document(metadata={'database': 'loan_database', 'collection': 'customers'}, page_content='CUST005 Michael Wilson 1992-10-21 654 Maple St, Cityville 555-4321 michael.wilson@example.com 456789012'),\n",
       " Document(metadata={'database': 'loan_database', 'collection': 'customers'}, page_content='CUST006 Sarah Johnson 1988-09-17 123 Elm St, Townsville 555-8765 sarah.johnson@example.com 567890123'),\n",
       " Document(metadata={'database': 'loan_database', 'collection': 'customers'}, page_content='CUST007 David Moore 1980-02-09 456 Birch St, Cityville 555-9876 david.moore@example.com 678901234'),\n",
       " Document(metadata={'database': 'loan_database', 'collection': 'customers'}, page_content='CUST008 Laura Lee 1993-01-13 789 Aspen St, Townsville 555-3452 laura.lee@example.com 789012345'),\n",
       " Document(metadata={'database': 'loan_database', 'collection': 'customers'}, page_content='CUST009 Daniel Taylor 1994-12-23 123 Spruce St, Cityville 555-2345 daniel.taylor@example.com 890123456'),\n",
       " Document(metadata={'database': 'loan_database', 'collection': 'customers'}, page_content='CUST010 Anna Clark 1987-07-29 456 Redwood St, Townsville 555-6543 anna.clark@example.com 901234567'),\n",
       " Document(metadata={'database': 'loan_database', 'collection': 'customers'}, page_content='CUST011 Peter Martinez 1979-03-15 789 Cypress St, Cityville 555-7891 peter.martinez@example.com 234567891'),\n",
       " Document(metadata={'database': 'loan_database', 'collection': 'customers'}, page_content='CUST012 Linda Perez 1983-04-10 321 Alder St, Townsville 555-8901 linda.perez@example.com 345678912'),\n",
       " Document(metadata={'database': 'loan_database', 'collection': 'customers'}, page_content='CUST013 James Harris 1978-01-20 654 Beech St, Cityville 555-6540 james.harris@example.com 456789123'),\n",
       " Document(metadata={'database': 'loan_database', 'collection': 'customers'}, page_content='CUST014 Jennifer Hall 1991-05-30 123 Willow St, Townsville 555-1235 jennifer.hall@example.com 567890234'),\n",
       " Document(metadata={'database': 'loan_database', 'collection': 'customers'}, page_content='CUST015 Mark King 1989-09-05 456 Fir St, Cityville 555-4567 mark.king@example.com 678901345'),\n",
       " Document(metadata={'database': 'loan_database', 'collection': 'customers'}, page_content='CUST016 Susan Green 1986-11-11 789 Oakwood St, Townsville 555-3214 susan.green@example.com 789012456'),\n",
       " Document(metadata={'database': 'loan_database', 'collection': 'customers'}, page_content='CUST017 George Young 1995-02-19 321 Maplewood St, Cityville 555-4326 george.young@example.com 890123567'),\n",
       " Document(metadata={'database': 'loan_database', 'collection': 'customers'}, page_content='CUST018 Jessica Allen 1981-08-12 654 Cedarwood St, Townsville 555-5674 jessica.allen@example.com 901234678'),\n",
       " Document(metadata={'database': 'loan_database', 'collection': 'customers'}, page_content='CUST019 Charles Wright 1984-10-02 123 Redwood Dr, Cityville 555-7893 charles.wright@example.com 234567890'),\n",
       " Document(metadata={'database': 'loan_database', 'collection': 'customers'}, page_content='CUST020 Karen Scott 1977-12-28 456 Elmwood Dr, Townsville 555-8904 karen.scott@example.com 345678901'),\n",
       " Document(metadata={'database': 'loan_database', 'collection': 'loans'}, page_content='LOAN001 CUST001 personal 10000 5.5 60 2023-01-15 2028-01-15 active'),\n",
       " Document(metadata={'database': 'loan_database', 'collection': 'loans'}, page_content='LOAN002 CUST002 mortgage 150000 3.7 180 2022-05-01 2037-05-01 approved'),\n",
       " Document(metadata={'database': 'loan_database', 'collection': 'loans'}, page_content='LOAN003 CUST003 auto 25000 4.2 36 2023-04-10 2026-04-10 active'),\n",
       " Document(metadata={'database': 'loan_database', 'collection': 'loans'}, page_content='LOAN004 CUST004 personal 15000 6.0 48 2021-11-01 2025-11-01 completed'),\n",
       " Document(metadata={'database': 'loan_database', 'collection': 'loans'}, page_content='LOAN005 CUST005 mortgage 200000 3.9 240 2023-06-01 2043-06-01 approved'),\n",
       " Document(metadata={'database': 'loan_database', 'collection': 'loans'}, page_content='LOAN006 CUST006 business 50000 7.5 120 2023-07-15 2033-07-15 active'),\n",
       " Document(metadata={'database': 'loan_database', 'collection': 'loans'}, page_content='LOAN007 CUST007 personal 12000 5.0 60 2022-01-20 2027-01-20 active'),\n",
       " Document(metadata={'database': 'loan_database', 'collection': 'loans'}, page_content='LOAN008 CUST008 auto 30000 4.8 48 2021-10-15 2025-10-15 completed'),\n",
       " Document(metadata={'database': 'loan_database', 'collection': 'loans'}, page_content='LOAN009 CUST009 business 75000 6.2 84 2022-08-01 2029-08-01 active'),\n",
       " Document(metadata={'database': 'loan_database', 'collection': 'loans'}, page_content='LOAN010 CUST010 personal 18000 5.7 36 2023-05-01 2026-05-01 approved'),\n",
       " Document(metadata={'database': 'loan_database', 'collection': 'loans'}, page_content='LOAN011 CUST011 mortgage 250000 4.1 360 2020-02-15 2050-02-15 active'),\n",
       " Document(metadata={'database': 'loan_database', 'collection': 'loans'}, page_content='LOAN012 CUST012 auto 22000 4.5 36 2023-09-10 2026-09-10 approved'),\n",
       " Document(metadata={'database': 'loan_database', 'collection': 'loans'}, page_content='LOAN013 CUST013 personal 9000 6.3 24 2021-04-01 2023-04-01 completed'),\n",
       " Document(metadata={'database': 'loan_database', 'collection': 'loans'}, page_content='LOAN014 CUST014 business 60000 7.0 96 2022-06-15 2030-06-15 active'),\n",
       " Document(metadata={'database': 'loan_database', 'collection': 'loans'}, page_content='LOAN015 CUST015 personal 13000 5.4 48 2023-03-01 2027-03-01 approved'),\n",
       " Document(metadata={'database': 'loan_database', 'collection': 'loans'}, page_content='LOAN016 CUST016 auto 28000 4.3 60 2023-07-10 2028-07-10 active'),\n",
       " Document(metadata={'database': 'loan_database', 'collection': 'loans'}, page_content='LOAN017 CUST017 business 45000 7.2 72 2022-03-01 2028-03-01 delinquent'),\n",
       " Document(metadata={'database': 'loan_database', 'collection': 'loans'}, page_content='LOAN018 CUST018 personal 17000 6.1 60 2021-12-01 2026-12-01 active'),\n",
       " Document(metadata={'database': 'loan_database', 'collection': 'loans'}, page_content='LOAN019 CUST019 mortgage 180000 4.0 240 2020-09-01 2040-09-01 active'),\n",
       " Document(metadata={'database': 'loan_database', 'collection': 'loans'}, page_content='LOAN020 CUST020 personal 20000 5.9 60 2023-04-01 2028-04-01 approved'),\n",
       " Document(metadata={'database': 'loan_database', 'collection': 'repayments'}, page_content='REPAY001 LOAN001 2023-02-15 200 150 50 9850'),\n",
       " Document(metadata={'database': 'loan_database', 'collection': 'repayments'}, page_content='REPAY002 LOAN001 2023-03-15 200 150 50 9700'),\n",
       " Document(metadata={'database': 'loan_database', 'collection': 'repayments'}, page_content='REPAY003 LOAN002 2023-06-01 500 300 200 149500'),\n",
       " Document(metadata={'database': 'loan_database', 'collection': 'repayments'}, page_content='REPAY004 LOAN002 2023-07-01 500 300 200 149000'),\n",
       " Document(metadata={'database': 'loan_database', 'collection': 'repayments'}, page_content='REPAY005 LOAN003 2023-05-10 700 500 200 24300'),\n",
       " Document(metadata={'database': 'loan_database', 'collection': 'repayments'}, page_content='REPAY006 LOAN003 2023-06-10 700 500 200 23800'),\n",
       " Document(metadata={'database': 'loan_database', 'collection': 'repayments'}, page_content='REPAY007 LOAN004 2021-12-01 400 300 100 14700'),\n",
       " Document(metadata={'database': 'loan_database', 'collection': 'repayments'}, page_content='REPAY008 LOAN004 2022-01-01 400 300 100 14400'),\n",
       " Document(metadata={'database': 'loan_database', 'collection': 'repayments'}, page_content='REPAY009 LOAN005 2023-07-01 800 500 300 199200'),\n",
       " Document(metadata={'database': 'loan_database', 'collection': 'repayments'}, page_content='REPAY010 LOAN005 2023-08-01 800 500 300 198700'),\n",
       " Document(metadata={'database': 'loan_database', 'collection': 'repayments'}, page_content='REPAY011 LOAN006 2023-08-15 1000 750 250 49250'),\n",
       " Document(metadata={'database': 'loan_database', 'collection': 'repayments'}, page_content='REPAY012 LOAN006 2023-09-15 1000 750 250 48500'),\n",
       " Document(metadata={'database': 'loan_database', 'collection': 'repayments'}, page_content='REPAY013 LOAN007 2023-03-20 250 200 50 11800'),\n",
       " Document(metadata={'database': 'loan_database', 'collection': 'repayments'}, page_content='REPAY014 LOAN007 2023-04-20 250 200 50 11600'),\n",
       " Document(metadata={'database': 'loan_database', 'collection': 'repayments'}, page_content='REPAY015 LOAN008 2021-11-15 300 250 50 29700'),\n",
       " Document(metadata={'database': 'loan_database', 'collection': 'repayments'}, page_content='REPAY016 LOAN008 2021-12-15 300 250 50 29400'),\n",
       " Document(metadata={'database': 'loan_database', 'collection': 'repayments'}, page_content='REPAY017 LOAN009 2022-09-01 400 300 100 74700'),\n",
       " Document(metadata={'database': 'loan_database', 'collection': 'repayments'}, page_content='REPAY018 LOAN009 2022-10-01 400 300 100 74400'),\n",
       " Document(metadata={'database': 'loan_database', 'collection': 'repayments'}, page_content='REPAY019 LOAN010 2023-06-01 350 250 100 17750'),\n",
       " Document(metadata={'database': 'loan_database', 'collection': 'repayments'}, page_content='REPAY020 LOAN010 2023-07-01 350 250 100 17500'),\n",
       " Document(metadata={'database': 'loan_database', 'collection': 'collateral'}, page_content='COL001 LOAN002 property 3-bedroom house in Townsville 180000 2022-04-01'),\n",
       " Document(metadata={'database': 'loan_database', 'collection': 'collateral'}, page_content='COL002 LOAN002 vehicle Toyota Camry 2018 20000 2022-04-01'),\n",
       " Document(metadata={'database': 'loan_database', 'collection': 'collateral'}, page_content='COL003 LOAN003 vehicle Honda Civic 2019 22000 2023-02-15'),\n",
       " Document(metadata={'database': 'loan_database', 'collection': 'collateral'}, page_content='COL004 LOAN004 property Condo in Cityville 120000 2021-06-30'),\n",
       " Document(metadata={'database': 'loan_database', 'collection': 'collateral'}, page_content='COL005 LOAN005 property 5-acre farmland 250000 2023-01-10'),\n",
       " Document(metadata={'database': 'loan_database', 'collection': 'collateral'}, page_content='COL006 LOAN006 equipment Industrial equipment set 50000 2023-03-22'),\n",
       " Document(metadata={'database': 'loan_database', 'collection': 'collateral'}, page_content='COL007 LOAN007 vehicle Ford F-150 2020 30000 2022-08-15'),\n",
       " Document(metadata={'database': 'loan_database', 'collection': 'collateral'}, page_content='COL008 LOAN008 vehicle Chevrolet Malibu 2018 18000 2021-09-01'),\n",
       " Document(metadata={'database': 'loan_database', 'collection': 'collateral'}, page_content='COL009 LOAN009 property Warehouse in Industrial Area 95000 2022-11-05'),\n",
       " Document(metadata={'database': 'loan_database', 'collection': 'collateral'}, page_content='COL010 LOAN010 equipment Restaurant kitchen setup 25000 2023-02-11'),\n",
       " Document(metadata={'database': 'loan_database', 'collection': 'collateral'}, page_content='COL011 LOAN011 property 4-bedroom villa 280000 2020-12-20'),\n",
       " Document(metadata={'database': 'loan_database', 'collection': 'collateral'}, page_content='COL012 LOAN012 vehicle BMW 5 Series 2021 35000 2023-08-30'),\n",
       " Document(metadata={'database': 'loan_database', 'collection': 'collateral'}, page_content='COL013 LOAN013 property Townhouse in Cityville 90000 2021-04-01'),\n",
       " Document(metadata={'database': 'loan_database', 'collection': 'collateral'}, page_content='COL014 LOAN014 equipment Construction machinery 60000 2022-05-12'),\n",
       " Document(metadata={'database': 'loan_database', 'collection': 'collateral'}, page_content='COL015 LOAN015 property Land plot, 2 acres 70000 2023-01-03'),\n",
       " Document(metadata={'database': 'loan_database', 'collection': 'collateral'}, page_content='COL016 LOAN016 vehicle Tesla Model 3 2020 40000 2023-07-15'),\n",
       " Document(metadata={'database': 'loan_database', 'collection': 'collateral'}, page_content='COL017 LOAN017 equipment Medical equipment set 55000 2022-09-01'),\n",
       " Document(metadata={'database': 'loan_database', 'collection': 'collateral'}, page_content='COL018 LOAN018 property Office space downtown 135000 2021-12-01'),\n",
       " Document(metadata={'database': 'loan_database', 'collection': 'collateral'}, page_content='COL019 LOAN019 property Beachfront house 220000 2020-09-15'),\n",
       " Document(metadata={'database': 'loan_database', 'collection': 'collateral'}, page_content='COL020 LOAN020 vehicle Mercedes-Benz E-Class 2019 42000 2023-04-15'),\n",
       " Document(metadata={'database': 'loan_database', 'collection': 'employees'}, page_content='EMP001 Alice Johnson loan officer BR001 alice.johnson@bank.com 555-9988'),\n",
       " Document(metadata={'database': 'loan_database', 'collection': 'employees'}, page_content='EMP002 Bob Miller branch manager BR002 bob.miller@bank.com 555-1122'),\n",
       " Document(metadata={'database': 'loan_database', 'collection': 'employees'}, page_content='EMP003 Clara Smith loan processor BR001 clara.smith@bank.com 555-2233'),\n",
       " Document(metadata={'database': 'loan_database', 'collection': 'employees'}, page_content='EMP004 David Brown loan officer BR003 david.brown@bank.com 555-3344'),\n",
       " Document(metadata={'database': 'loan_database', 'collection': 'employees'}, page_content='EMP005 Emma Jones loan specialist BR002 emma.jones@bank.com 555-4455'),\n",
       " Document(metadata={'database': 'loan_database', 'collection': 'employees'}, page_content='EMP006 Frank Davis loan officer BR001 frank.davis@bank.com 555-5566'),\n",
       " Document(metadata={'database': 'loan_database', 'collection': 'employees'}, page_content='EMP007 Grace Garcia branch assistant BR004 grace.garcia@bank.com 555-6677'),\n",
       " Document(metadata={'database': 'loan_database', 'collection': 'employees'}, page_content='EMP008 Henry Martinez loan processor BR005 henry.martinez@bank.com 555-7788'),\n",
       " Document(metadata={'database': 'loan_database', 'collection': 'employees'}, page_content='EMP009 Ivy Clark loan officer BR003 ivy.clark@bank.com 555-8899'),\n",
       " Document(metadata={'database': 'loan_database', 'collection': 'employees'}, page_content='EMP010 Jake Rodriguez loan specialist BR002 jake.rodriguez@bank.com 555-9900'),\n",
       " Document(metadata={'database': 'loan_database', 'collection': 'employees'}, page_content='EMP011 Kara Lewis branch manager BR003 kara.lewis@bank.com 555-1010'),\n",
       " Document(metadata={'database': 'loan_database', 'collection': 'employees'}, page_content='EMP012 Liam Walker loan officer BR001 liam.walker@bank.com 555-1111'),\n",
       " Document(metadata={'database': 'loan_database', 'collection': 'employees'}, page_content='EMP013 Mia Harris loan processor BR004 mia.harris@bank.com 555-2222'),\n",
       " Document(metadata={'database': 'loan_database', 'collection': 'employees'}, page_content='EMP014 Nina Nelson loan officer BR005 nina.nelson@bank.com 555-3333'),\n",
       " Document(metadata={'database': 'loan_database', 'collection': 'employees'}, page_content='EMP015 Oscar Hall branch assistant BR004 oscar.hall@bank.com 555-4444'),\n",
       " Document(metadata={'database': 'loan_database', 'collection': 'employees'}, page_content='EMP016 Paula Young loan specialist BR003 paula.young@bank.com 555-5555'),\n",
       " Document(metadata={'database': 'loan_database', 'collection': 'employees'}, page_content='EMP017 Quinn Allen loan officer BR001 quinn.allen@bank.com 555-6666'),\n",
       " Document(metadata={'database': 'loan_database', 'collection': 'employees'}, page_content='EMP018 Rita King branch manager BR002 rita.king@bank.com 555-7777'),\n",
       " Document(metadata={'database': 'loan_database', 'collection': 'employees'}, page_content='EMP019 Sam Wright loan processor BR003 sam.wright@bank.com 555-8888'),\n",
       " Document(metadata={'database': 'loan_database', 'collection': 'employees'}, page_content='EMP020 Tina Lopez loan officer BR004 tina.lopez@bank.com 555-9999'),\n",
       " Document(metadata={'database': 'loan_database', 'collection': 'branches'}, page_content='BR001 Main Branch 789 Bank Rd, Cityville 555-0101'),\n",
       " Document(metadata={'database': 'loan_database', 'collection': 'branches'}, page_content='BR002 West Branch 123 West St, Townsville 555-0202'),\n",
       " Document(metadata={'database': 'loan_database', 'collection': 'branches'}, page_content='BR003 East Branch 456 East Blvd, Cityville 555-0303'),\n",
       " Document(metadata={'database': 'loan_database', 'collection': 'branches'}, page_content='BR004 North Branch 789 North Ave, Cityville 555-0404'),\n",
       " Document(metadata={'database': 'loan_database', 'collection': 'branches'}, page_content='BR005 South Branch 321 South St, Townsville 555-0505'),\n",
       " Document(metadata={'database': 'loan_database', 'collection': 'branches'}, page_content='BR006 Central Branch 654 Central Ave, Cityville 555-0606'),\n",
       " Document(metadata={'database': 'loan_database', 'collection': 'branches'}, page_content='BR007 Downtown Branch 987 Downtown Rd, Townsville 555-0707'),\n",
       " Document(metadata={'database': 'loan_database', 'collection': 'branches'}, page_content='BR008 Uptown Branch 654 Uptown Rd, Cityville 555-0808'),\n",
       " Document(metadata={'database': 'loan_database', 'collection': 'branches'}, page_content='BR009 Lakeside Branch 123 Lakeside Dr, Townsville 555-0909'),\n",
       " Document(metadata={'database': 'loan_database', 'collection': 'branches'}, page_content='BR010 Mountain Branch 987 Mountain Rd, Cityville 555-1001'),\n",
       " Document(metadata={'database': 'loan_database', 'collection': 'branches'}, page_content='BR011 Beachside Branch 321 Beachside Ave, Townsville 555-1102'),\n",
       " Document(metadata={'database': 'loan_database', 'collection': 'branches'}, page_content='BR012 Parkside Branch 789 Park Ave, Cityville 555-1203'),\n",
       " Document(metadata={'database': 'loan_database', 'collection': 'branches'}, page_content='BR013 Riverside Branch 456 Riverside Dr, Townsville 555-1304'),\n",
       " Document(metadata={'database': 'loan_database', 'collection': 'branches'}, page_content='BR014 Harbor Branch 123 Harbor St, Cityville 555-1405'),\n",
       " Document(metadata={'database': 'loan_database', 'collection': 'branches'}, page_content='BR015 Airport Branch 987 Airport Rd, Townsville 555-1506'),\n",
       " Document(metadata={'database': 'loan_database', 'collection': 'branches'}, page_content='BR016 Market Branch 321 Market Ave, Cityville 555-1607'),\n",
       " Document(metadata={'database': 'loan_database', 'collection': 'branches'}, page_content='BR017 Greenfield Branch 654 Greenfield Rd, Townsville 555-1708'),\n",
       " Document(metadata={'database': 'loan_database', 'collection': 'branches'}, page_content='BR018 Hilltop Branch 456 Hilltop Dr, Cityville 555-1809'),\n",
       " Document(metadata={'database': 'loan_database', 'collection': 'branches'}, page_content='BR019 Valley Branch 789 Valley Rd, Townsville 555-1900'),\n",
       " Document(metadata={'database': 'loan_database', 'collection': 'branches'}, page_content='BR020 Sunset Branch 123 Sunset Blvd, Cityville 555-2001'),\n",
       " Document(metadata={'database': 'loan_database', 'collection': 'loan_applications'}, page_content='APP001 CUST001 auto 20000 2023-01-10 pending EMP001'),\n",
       " Document(metadata={'database': 'loan_database', 'collection': 'loan_applications'}, page_content='APP002 CUST002 personal 5000 2023-01-12 approved EMP002'),\n",
       " Document(metadata={'database': 'loan_database', 'collection': 'loan_applications'}, page_content='APP003 CUST003 business 75000 2023-02-01 rejected EMP003'),\n",
       " Document(metadata={'database': 'loan_database', 'collection': 'loan_applications'}, page_content='APP004 CUST004 mortgage 150000 2023-02-15 approved EMP004'),\n",
       " Document(metadata={'database': 'loan_database', 'collection': 'loan_applications'}, page_content='APP005 CUST005 auto 18000 2023-03-05 pending EMP005'),\n",
       " Document(metadata={'database': 'loan_database', 'collection': 'loan_applications'}, page_content='APP006 CUST006 personal 25000 2023-03-20 rejected EMP006'),\n",
       " Document(metadata={'database': 'loan_database', 'collection': 'loan_applications'}, page_content='APP007 CUST007 business 50000 2023-04-10 approved EMP007'),\n",
       " Document(metadata={'database': 'loan_database', 'collection': 'loan_applications'}, page_content='APP008 CUST008 mortgage 100000 2023-05-01 pending EMP008'),\n",
       " Document(metadata={'database': 'loan_database', 'collection': 'loan_applications'}, page_content='APP009 CUST009 auto 22000 2023-05-15 approved EMP009'),\n",
       " Document(metadata={'database': 'loan_database', 'collection': 'loan_applications'}, page_content='APP010 CUST010 personal 12000 2023-06-01 rejected EMP010'),\n",
       " Document(metadata={'database': 'loan_database', 'collection': 'loan_applications'}, page_content='APP011 CUST011 business 80000 2023-06-15 approved EMP011'),\n",
       " Document(metadata={'database': 'loan_database', 'collection': 'loan_applications'}, page_content='APP012 CUST012 mortgage 160000 2023-07-01 pending EMP012'),\n",
       " Document(metadata={'database': 'loan_database', 'collection': 'loan_applications'}, page_content='APP013 CUST013 auto 20000 2023-07-20 approved EMP013'),\n",
       " Document(metadata={'database': 'loan_database', 'collection': 'loan_applications'}, page_content='APP014 CUST014 personal 9000 2023-08-05 pending EMP014'),\n",
       " Document(metadata={'database': 'loan_database', 'collection': 'loan_applications'}, page_content='APP015 CUST015 business 60000 2023-08-22 rejected EMP015'),\n",
       " Document(metadata={'database': 'loan_database', 'collection': 'loan_applications'}, page_content='APP016 CUST016 mortgage 140000 2023-09-01 approved EMP016'),\n",
       " Document(metadata={'database': 'loan_database', 'collection': 'loan_applications'}, page_content='APP017 CUST017 auto 25000 2023-09-15 pending EMP017'),\n",
       " Document(metadata={'database': 'loan_database', 'collection': 'loan_applications'}, page_content='APP018 CUST018 personal 15000 2023-10-01 approved EMP018'),\n",
       " Document(metadata={'database': 'loan_database', 'collection': 'loan_applications'}, page_content='APP019 CUST019 business 70000 2023-10-20 rejected EMP019'),\n",
       " Document(metadata={'database': 'loan_database', 'collection': 'loan_applications'}, page_content='APP020 CUST020 mortgage 200000 2023-11-01 pending EMP020'),\n",
       " Document(metadata={'database': 'loan_database', 'collection': 'payments_schedule'}, page_content='SCHD001 LOAN001 2023-02-15 200 paid'),\n",
       " Document(metadata={'database': 'loan_database', 'collection': 'payments_schedule'}, page_content='SCHD002 LOAN001 2023-03-15 200 paid'),\n",
       " Document(metadata={'database': 'loan_database', 'collection': 'payments_schedule'}, page_content='SCHD003 LOAN002 2023-06-01 500 paid'),\n",
       " Document(metadata={'database': 'loan_database', 'collection': 'payments_schedule'}, page_content='SCHD004 LOAN002 2023-07-01 500 paid'),\n",
       " Document(metadata={'database': 'loan_database', 'collection': 'payments_schedule'}, page_content='SCHD005 LOAN003 2023-05-10 700 paid'),\n",
       " Document(metadata={'database': 'loan_database', 'collection': 'payments_schedule'}, page_content='SCHD006 LOAN003 2023-06-10 700 due'),\n",
       " Document(metadata={'database': 'loan_database', 'collection': 'payments_schedule'}, page_content='SCHD007 LOAN004 2021-12-01 400 paid'),\n",
       " Document(metadata={'database': 'loan_database', 'collection': 'payments_schedule'}, page_content='SCHD008 LOAN004 2022-01-01 400 paid'),\n",
       " Document(metadata={'database': 'loan_database', 'collection': 'payments_schedule'}, page_content='SCHD009 LOAN005 2023-07-01 800 paid'),\n",
       " Document(metadata={'database': 'loan_database', 'collection': 'payments_schedule'}, page_content='SCHD010 LOAN005 2023-08-01 800 due'),\n",
       " Document(metadata={'database': 'loan_database', 'collection': 'payments_schedule'}, page_content='SCHD011 LOAN006 2023-08-15 1000 paid'),\n",
       " Document(metadata={'database': 'loan_database', 'collection': 'payments_schedule'}, page_content='SCHD012 LOAN006 2023-09-15 1000 due'),\n",
       " Document(metadata={'database': 'loan_database', 'collection': 'payments_schedule'}, page_content='SCHD013 LOAN007 2023-03-20 250 paid'),\n",
       " Document(metadata={'database': 'loan_database', 'collection': 'payments_schedule'}, page_content='SCHD014 LOAN007 2023-04-20 250 paid'),\n",
       " Document(metadata={'database': 'loan_database', 'collection': 'payments_schedule'}, page_content='SCHD015 LOAN008 2021-11-15 300 paid'),\n",
       " Document(metadata={'database': 'loan_database', 'collection': 'payments_schedule'}, page_content='SCHD016 LOAN008 2021-12-15 300 paid'),\n",
       " Document(metadata={'database': 'loan_database', 'collection': 'payments_schedule'}, page_content='SCHD017 LOAN009 2022-09-01 400 overdue'),\n",
       " Document(metadata={'database': 'loan_database', 'collection': 'payments_schedule'}, page_content='SCHD018 LOAN009 2022-10-01 400 due'),\n",
       " Document(metadata={'database': 'loan_database', 'collection': 'payments_schedule'}, page_content='SCHD019 LOAN010 2023-06-01 350 paid'),\n",
       " Document(metadata={'database': 'loan_database', 'collection': 'payments_schedule'}, page_content='SCHD020 LOAN010 2023-07-01 350 due')]"
      ]
     },
     "execution_count": 7,
     "metadata": {},
     "output_type": "execute_result"
    }
   ],
   "source": [
    "all_docs"
   ]
  },
  {
   "cell_type": "code",
   "execution_count": 8,
   "metadata": {},
   "outputs": [
    {
     "name": "stderr",
     "output_type": "stream",
     "text": [
      "/home/manith/.local/lib/python3.12/site-packages/sentence_transformers/cross_encoder/CrossEncoder.py:13: TqdmExperimentalWarning: Using `tqdm.autonotebook.tqdm` in notebook mode. Use `tqdm.tqdm` instead to force console mode (e.g. in jupyter console)\n",
      "  from tqdm.autonotebook import tqdm, trange\n"
     ]
    }
   ],
   "source": [
    "os.environ['HF_TOKEN']=os.getenv(\"HF_TOKEN\")\n",
    "from langchain_huggingface import HuggingFaceEmbeddings\n",
    "embeddings=HuggingFaceEmbeddings(model_name=\"all-MiniLM-L6-v2\")"
   ]
  },
  {
   "cell_type": "code",
   "execution_count": 37,
   "metadata": {},
   "outputs": [],
   "source": [
    "text_splitter=RecursiveCharacterTextSplitter(chunk_size=1000,chunk_overlap=100)\n",
    "splits=text_splitter.split_documents(all_docs)\n",
    "# vectorstore1=Chroma.from_documents(documents=splits,embedding=embeddings)\n",
    "# retriever=vectorstore1.as_retriever()\n",
    "# retriever\n",
    "vectorstore = FAISS.from_documents(documents=splits, embedding=embeddings)\n",
    "retriever = vectorstore.as_retriever()"
   ]
  },
  {
   "cell_type": "code",
   "execution_count": 30,
   "metadata": {},
   "outputs": [
    {
     "data": {
      "text/plain": [
       "232"
      ]
     },
     "execution_count": 30,
     "metadata": {},
     "output_type": "execute_result"
    }
   ],
   "source": [
    "len(splits)"
   ]
  },
  {
   "cell_type": "code",
   "execution_count": null,
   "metadata": {},
   "outputs": [],
   "source": [
    "## Prompt Template\n",
    "system_prompt = (\n",
    "    \"You are an assistant for question-answering tasks. \"\n",
    "    \"Use the following pieces of retrieved context to answer \"\n",
    "    \"the question. If you don't know the answer, say that you \"\n",
    "    \"don't know. Use three sentences maximum and keep the \"\n",
    "    \"answer concise.\"\n",
    "    \"\\n\\n\"\n",
    "    \"{context}\"\n",
    ")\n",
    "\n",
    "prompt = ChatPromptTemplate.from_messages(\n",
    "    [\n",
    "        (\"system\", system_prompt),\n",
    "        (\"human\", \"{input}\"),\n",
    "    ]\n",
    ")"
   ]
  },
  {
   "cell_type": "code",
   "execution_count": 46,
   "metadata": {},
   "outputs": [],
   "source": [
    "question_answer_chain=create_stuff_documents_chain(llm,prompt)\n",
    "rag_chain=create_retrieval_chain(retriever,question_answer_chain)"
   ]
  },
  {
   "cell_type": "code",
   "execution_count": null,
   "metadata": {},
   "outputs": [
    {
     "data": {
      "text/plain": [
       "{'input': 'cust001',\n",
       " 'context': [Document(metadata={'database': 'loan_database', 'collection': 'loan_applications'}, page_content='APP001 CUST001 auto 20000 2023-01-10 pending EMP001'),\n",
       "  Document(metadata={'database': 'loan_database', 'collection': 'loan_applications'}, page_content='APP014 CUST014 personal 9000 2023-08-05 pending EMP014'),\n",
       "  Document(metadata={'database': 'loan_database', 'collection': 'customers'}, page_content='CUST010 Anna Clark 1987-07-29 456 Redwood St, Townsville 555-6543 anna.clark@example.com 901234567'),\n",
       "  Document(metadata={'database': 'loan_database', 'collection': 'loan_applications'}, page_content='APP018 CUST018 personal 15000 2023-10-01 approved EMP018')],\n",
       " 'answer': \"CUST001's information is not available in the provided data. However, their application details are available:\\n\\nAPP001 CUST001 auto 20000 2023-01-10 pending EMP001\"}"
      ]
     },
     "execution_count": 48,
     "metadata": {},
     "output_type": "execute_result"
    }
   ],
   "source": [
    "response=rag_chain.invoke({\"input\":\"hello how are you? \"})\n",
    "response"
   ]
  },
  {
   "cell_type": "code",
   "execution_count": null,
   "metadata": {},
   "outputs": [],
   "source": [
    "response['answer']"
   ]
  }
 ],
 "metadata": {
  "kernelspec": {
   "display_name": "Python 3",
   "language": "python",
   "name": "python3"
  },
  "language_info": {
   "codemirror_mode": {
    "name": "ipython",
    "version": 3
   },
   "file_extension": ".py",
   "mimetype": "text/x-python",
   "name": "python",
   "nbconvert_exporter": "python",
   "pygments_lexer": "ipython3",
   "version": "3.12.3"
  }
 },
 "nbformat": 4,
 "nbformat_minor": 4
}
